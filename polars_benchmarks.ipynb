{
 "cells": [
  {
   "cell_type": "code",
   "execution_count": 120,
   "metadata": {},
   "outputs": [],
   "source": [
    "import polars as pl\n",
    "import pandas as pd\n",
    "import numpy as np\n",
    "\n",
    "import time\n",
    "import timeit\n",
    "\n",
    "df = pd.read_parquet('data/df.pq')\n",
    "\n",
    "df_join_1 = pd.read_parquet('data/df_join_1.pq')\n",
    "\n",
    "df_join_2 = pd.read_parquet('data/df_join_2.pq')"
   ]
  },
  {
   "cell_type": "code",
   "execution_count": 146,
   "metadata": {},
   "outputs": [],
   "source": [
    "class TimedComparison:\n",
    "    def __init__(\n",
    "            self, \n",
    "            df=None, \n",
    "            df2=None, \n",
    "            n_reps=25, \n",
    "            time_format='ms', \n",
    "            save_output=False\n",
    "        ):\n",
    "        \n",
    "        self.n_reps = n_reps\n",
    "        self.time_format = time_format\n",
    "        self.times = {'pandas': [], 'polars': []}\n",
    "        self.df = df\n",
    "        self.df_join_2 = df2\n",
    "        self.df_pl = pl.from_pandas(df)\n",
    "        self.df_join_2_pl = pl.from_pandas(df_join_2)\n",
    "        self.save_output = save_output\n",
    "        self.operations = {\n",
    "            'pandas': {\n",
    "                'gb':   lambda **kwargs: self.gb_operation(pkg = 'pandas', **kwargs),\n",
    "                'read': lambda **kwargs: self.read_operation(pkg='pandas', **kwargs),\n",
    "                'join': lambda **kwargs: self.join_operation(pkg='pandas', **kwargs)\n",
    "            },\n",
    "            'polars': {\n",
    "                'gb':   lambda **kwargs: self.gb_operation(pkg = 'polars', **kwargs),\n",
    "                'read': lambda **kwargs: self.read_operation(pkg='polars', **kwargs),\n",
    "                'join': lambda **kwargs: self.join_operation(pkg='polars', **kwargs)\n",
    "            }\n",
    "        }\n",
    "\n",
    "    #  Operations -------------------------------------------------------------\n",
    "        \n",
    "    def read_operation(self, pkg, path, **kwargs):\n",
    "        if pkg == 'pandas':\n",
    "            return pd.read_parquet(path)\n",
    "        elif pkg == 'polars':\n",
    "            return pl.read_parquet(path)\n",
    "        \n",
    "        \n",
    "    def gb_operation(self, pkg, with_lambda=False):\n",
    "        if pkg == 'pandas':\n",
    "            if with_lambda:\n",
    "                return (\n",
    "                    self.df.groupby(['grp', 'grp_3'], as_index=False, sort=False)\n",
    "                    .agg(\n",
    "                        x_mean_sq = pd.NamedAgg('x', lambda x: x.mean()**2),\n",
    "                        y_sum_10  = pd.NamedAgg('y', lambda x: x.sum()/10)\n",
    "                    )\n",
    "                )\n",
    "            else:\n",
    "                return (\n",
    "                    self.df\n",
    "                    .groupby(['grp', 'grp_3'], as_index=False, sort=False)\n",
    "                    .agg({'x': 'mean', 'y': 'sum'})\n",
    "                )\n",
    "        elif pkg == 'polars':\n",
    "            if with_lambda:\n",
    "                return (\n",
    "                    self.df_pl\n",
    "                    .group_by(['grp', 'grp_3'], maintain_order=True)\n",
    "                    .agg(\n",
    "                        x_mean_sq = pl.map_groups('x', lambda x: x[0].mean()**2),\n",
    "                        y_sum_10  = pl.map_groups('y', lambda x: x[0].sum()/10)\n",
    "                    )\n",
    "                )\n",
    "            else:\n",
    "                return (\n",
    "                    self.df_pl\n",
    "                    .group_by(['grp', 'grp_3'], maintain_order=True)\n",
    "                    .agg(\n",
    "                        x_mean = pl.mean('x'),\n",
    "                        y_sum  = pl.sum('y')\n",
    "                    )\n",
    "                )\n",
    "            \n",
    "    def join_operation(self, pkg, **kwargs):\n",
    "        if pkg == 'pandas':\n",
    "            return self.df.merge(self.df_join_2, **kwargs) # merge was faster for this setting\n",
    "            # return self.df.set_index(['grp', 'grp_2']).join(self.df_join_2.set_index(['grp', 'grp_2']), **kwargs)\n",
    "        elif pkg == 'polars':\n",
    "            return self.df_pl.join(self.df_join_2_pl, **kwargs)\n",
    "        \n",
    "\n",
    "    #  Run --------------------------------------------------------------------\n",
    "            \n",
    "    def run_operation(self, pkg, type, **kwargs):\n",
    "        if pkg not in self.operations or type not in self.operations[pkg]:\n",
    "            raise ValueError(\"Invalid pkg or type argument.\")\n",
    "        return self.operations[pkg][type](**kwargs)\n",
    "\n",
    "    def run_comparison(self, type, **kwargs):        \n",
    "        for pkg in ['pandas', 'polars']:\n",
    "            time_results = timeit.repeat(lambda: self.run_operation(pkg, type, **kwargs), repeat=self.n_reps, number=1)\n",
    "            times_median_raw = np.median(time_results)\n",
    "            self.times[pkg].append(times_median_raw)            \n",
    "            times_median = times_median_raw * 1000 if self.time_format == 'ms' else times_median_raw\n",
    "            print(f\"{pkg.capitalize()} execution time (median {self.time_format} across {self.n_reps} iterations):\", times_median.round(2))\n",
    "\n",
    "        speedup = [pandas_time / polars_time for pandas_time, polars_time in zip(self.times['pandas'], self.times['polars'])]\n",
    "        print(\"Speedup:\", np.array(speedup).round(5))\n",
    "        \n",
    "        if self.save_output:\n",
    "            result_df = pl.DataFrame(\n",
    "                {\n",
    "                    'operation': [type],\n",
    "                    'n_reps': [self.n_reps],\n",
    "                    'time_format': [self.time_format],\n",
    "                    'median_pandas_time': self.times['pandas'],\n",
    "                    'median_polars_time': self.times['polars'],\n",
    "                    'median_polars_speedup':np.array(speedup)\n",
    "                }\n",
    "            )\n",
    "            return result_df"
   ]
  },
  {
   "cell_type": "code",
   "execution_count": 121,
   "metadata": {},
   "outputs": [
    {
     "name": "stdout",
     "output_type": "stream",
     "text": [
      "Pandas execution time (median ms across 5 iterations): 91.31\n",
      "Polars execution time (median ms across 5 iterations): 15.0\n",
      "Speedup: [6.08734]\n"
     ]
    }
   ],
   "source": [
    "TimedComparison(df, n_reps=5).run_comparison(type = 'gb', with_lambda=False)"
   ]
  },
  {
   "cell_type": "code",
   "execution_count": 61,
   "metadata": {},
   "outputs": [
    {
     "name": "stdout",
     "output_type": "stream",
     "text": [
      "Pandas execution time (median s across 5 iterations): 6.47\n",
      "Polars execution time (median s across 5 iterations): 1.52\n",
      "Speedup: [4.26889]\n"
     ]
    }
   ],
   "source": [
    "TimedComparison(df, n_reps=5, time_format='s').run_comparison(type = 'gb', with_lambda=True) # this takes longer for both so only 5 reps for interactive"
   ]
  },
  {
   "cell_type": "code",
   "execution_count": 70,
   "metadata": {},
   "outputs": [
    {
     "name": "stdout",
     "output_type": "stream",
     "text": [
      "Pandas execution time (median ms across 50 iterations): 39.12\n",
      "Polars execution time (median ms across 50 iterations): 32.89\n",
      "Speedup: [1.18955]\n"
     ]
    }
   ],
   "source": [
    "TimedComparison(df, n_reps=50).run_comparison(type = 'read', path='data/df.pq')"
   ]
  },
  {
   "cell_type": "code",
   "execution_count": 153,
   "metadata": {},
   "outputs": [
    {
     "data": {
      "text/plain": [
       "((10000, 2), (4000, 2))"
      ]
     },
     "execution_count": 153,
     "metadata": {},
     "output_type": "execute_result"
    }
   ],
   "source": [
    "df_join_1.shape, df_join_2.shape"
   ]
  },
  {
   "cell_type": "code",
   "execution_count": 147,
   "metadata": {},
   "outputs": [
    {
     "name": "stdout",
     "output_type": "stream",
     "text": [
      "Pandas execution time (median ms across 50 iterations): 3.58\n",
      "Polars execution time (median ms across 50 iterations): 0.51\n",
      "Speedup: [6.9538]\n"
     ]
    }
   ],
   "source": [
    "TimedComparison(df_join_1, df_join_2, n_reps=50).run_comparison(type='join', on=['grp', 'grp_2'], how='inner')\n"
   ]
  },
  {
   "cell_type": "code",
   "execution_count": 148,
   "metadata": {},
   "outputs": [
    {
     "name": "stdout",
     "output_type": "stream",
     "text": [
      "Pandas execution time (median ms across 50 iterations): 3.24\n",
      "Polars execution time (median ms across 50 iterations): 0.44\n",
      "Speedup: [7.43813]\n"
     ]
    }
   ],
   "source": [
    "TimedComparison(df_join_1, df_join_2, n_reps=50).run_comparison(type = 'join', on = ['grp', 'grp_2'], how = 'left')"
   ]
  },
  {
   "cell_type": "code",
   "execution_count": 149,
   "metadata": {},
   "outputs": [
    {
     "name": "stdout",
     "output_type": "stream",
     "text": [
      "Pandas execution time (median ms across 50 iterations): 3.11\n",
      "Polars execution time (median ms across 50 iterations): 0.41\n",
      "Speedup: [7.53455]\n"
     ]
    }
   ],
   "source": [
    "TimedComparison(df_join_2, df_join_1, n_reps=50).run_comparison(type = 'join', on = ['grp', 'grp_2'], how = 'left')"
   ]
  },
  {
   "cell_type": "markdown",
   "metadata": {},
   "source": [
    "## Save results for presentation"
   ]
  },
  {
   "cell_type": "code",
   "execution_count": 151,
   "metadata": {},
   "outputs": [],
   "source": [
    "# nr = 50\n",
    "\n",
    "# res = [\n",
    "#     TimedComparison(df, n_reps=nr, save_output=True).run_comparison(type = 'gb', with_lambda=False).with_columns(setting = pl.lit('lambda-false')),\n",
    "#     TimedComparison(df, n_reps=nr, time_format='s', save_output=True).run_comparison(type = 'gb', with_lambda=True).with_columns(setting = pl.lit('lambda-true')),\n",
    "#     TimedComparison(df, n_reps=nr, save_output=True).run_comparison(type = 'read', path='data/df.pq').with_columns(setting = pl.lit('NA')),\n",
    "#     TimedComparison(df_join_1, df_join_2, n_reps=nr, save_output=True).run_comparison(type = 'join', on = ['grp', 'grp_2'], how = 'inner').with_columns(setting = pl.lit('inner')),\n",
    "#     TimedComparison(df_join_1, df_join_2, n_reps=nr, save_output=True).run_comparison(type = 'join', on = ['grp', 'grp_2'], how = 'left').with_columns(setting = pl.lit('left')),\n",
    "#     TimedComparison(df_join_2, df_join_1, n_reps=nr, save_output=True).run_comparison(type = 'join', on = ['grp', 'grp_2'], how = 'left').with_columns(setting = pl.lit('right'))\n",
    "# ]\n",
    "\n",
    "# pl.concat(res).write_parquet('data/timed_comparison.pq')"
   ]
  },
  {
   "cell_type": "code",
   "execution_count": 152,
   "metadata": {},
   "outputs": [],
   "source": [
    "# pl.read_parquet('data/timed_comparison.pq')"
   ]
  }
 ],
 "metadata": {
  "kernelspec": {
   "display_name": "polars",
   "language": "python",
   "name": "python3"
  },
  "language_info": {
   "codemirror_mode": {
    "name": "ipython",
    "version": 3
   },
   "file_extension": ".py",
   "mimetype": "text/x-python",
   "name": "python",
   "nbconvert_exporter": "python",
   "pygments_lexer": "ipython3",
   "version": "3.12.2"
  }
 },
 "nbformat": 4,
 "nbformat_minor": 2
}
